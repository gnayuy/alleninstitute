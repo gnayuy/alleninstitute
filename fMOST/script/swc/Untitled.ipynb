{
 "cells": [
  {
   "cell_type": "code",
   "execution_count": 1,
   "metadata": {},
   "outputs": [],
   "source": [
    "import pandas\n",
    "import numpy as np\n",
    "import sys"
   ]
  },
  {
   "cell_type": "code",
   "execution_count": 4,
   "metadata": {},
   "outputs": [],
   "source": [
    "inputswc = \"18453_7007-X11486-Y3611_finalized.processed.swc\""
   ]
  },
  {
   "cell_type": "code",
   "execution_count": 5,
   "metadata": {},
   "outputs": [],
   "source": [
    "inputneuron = pandas.read_csv(inputswc, delimiter=' ')"
   ]
  },
  {
   "cell_type": "code",
   "execution_count": 6,
   "metadata": {},
   "outputs": [
    {
     "name": "stdout",
     "output_type": "stream",
     "text": [
      "(12989, 7)\n"
     ]
    }
   ],
   "source": [
    "print(inputneuron.shape)"
   ]
  },
  {
   "cell_type": "code",
   "execution_count": 20,
   "metadata": {},
   "outputs": [
    {
     "name": "stdout",
     "output_type": "stream",
     "text": [
      "312.20328125 137.85859375 84.48796875 41.8165625 458.5625 381.4125\n"
     ]
    }
   ],
   "source": [
    "x = inputneuron.iloc[:,2]\n",
    "y = inputneuron.iloc[:,3]\n",
    "z = inputneuron.iloc[:,4]\n",
    "\n",
    "\n",
    "print(np.max(x),np.min(x), np.max(y),np.min(y), np.max(z),np.min(z))"
   ]
  },
  {
   "cell_type": "code",
   "execution_count": 16,
   "metadata": {},
   "outputs": [],
   "source": [
    "inputneuron.iloc[:,2] = x/64\n",
    "inputneuron.iloc[:,3] = y/64\n",
    "inputneuron.iloc[:,4] = z/16"
   ]
  },
  {
   "cell_type": "code",
   "execution_count": 21,
   "metadata": {},
   "outputs": [],
   "source": [
    "inputneuron.to_csv(\"test.swc\", index=False, sep=' ')"
   ]
  },
  {
   "cell_type": "code",
   "execution_count": 18,
   "metadata": {},
   "outputs": [
    {
     "name": "stdout",
     "output_type": "stream",
     "text": [
      "(12989, 7)\n"
     ]
    }
   ],
   "source": [
    "print(inputneuron.shape)"
   ]
  },
  {
   "cell_type": "code",
   "execution_count": 22,
   "metadata": {},
   "outputs": [],
   "source": [
    "inputapo = \"18453_7007-X11486-Y3611_finalized.processed.apo\""
   ]
  },
  {
   "cell_type": "code",
   "execution_count": 23,
   "metadata": {},
   "outputs": [],
   "source": [
    "inputmarker = pandas.read_csv(inputapo)"
   ]
  },
  {
   "cell_type": "code",
   "execution_count": 24,
   "metadata": {},
   "outputs": [
    {
     "name": "stdout",
     "output_type": "stream",
     "text": [
      "(20, 18)\n"
     ]
    }
   ],
   "source": [
    "print(inputmarker.shape)"
   ]
  },
  {
   "cell_type": "code",
   "execution_count": 26,
   "metadata": {},
   "outputs": [
    {
     "name": "stdout",
     "output_type": "stream",
     "text": [
      "0      9757.942\n",
      "1      9757.696\n",
      "2     11544.326\n",
      "3     11545.211\n",
      "4     11478.730\n",
      "5     11476.529\n",
      "6     11476.713\n",
      "7     11476.529\n",
      "8     11463.675\n",
      "9     11476.529\n",
      "10    11483.841\n",
      "11    11476.529\n",
      "12    11460.367\n",
      "13    11476.529\n",
      "14    11469.991\n",
      "15    11476.529\n",
      "16    11496.484\n",
      "17    11476.529\n",
      "18    11587.998\n",
      "19    11589.277\n",
      "Name: x, dtype: float64 0     4589.124\n",
      "1     4589.724\n",
      "2     3841.436\n",
      "3     3843.237\n",
      "4     3617.862\n",
      "5     3608.522\n",
      "6     3598.326\n",
      "7     3608.522\n",
      "8     3602.672\n",
      "9     3608.522\n",
      "10    3611.118\n",
      "11    3608.522\n",
      "12    3605.353\n",
      "13    3608.522\n",
      "14    3619.045\n",
      "15    3608.522\n",
      "16    3606.614\n",
      "17    3608.522\n",
      "18    3940.782\n",
      "19    3937.345\n",
      "Name: y, dtype: float64 0     7126.877\n",
      "1     7127.254\n",
      "2     6996.438\n",
      "3     6996.497\n",
      "4     7002.247\n",
      "5     7003.507\n",
      "6     7004.745\n",
      "7     7003.507\n",
      "8     7001.063\n",
      "9     7003.507\n",
      "10    7005.517\n",
      "11    7003.507\n",
      "12    7001.313\n",
      "13    7003.507\n",
      "14    6999.979\n",
      "15    7003.507\n",
      "16    7000.417\n",
      "17    7003.507\n",
      "18    6987.691\n",
      "19    6987.876\n",
      "Name: z, dtype: float64\n"
     ]
    }
   ],
   "source": [
    "z = inputmarker.iloc[:,4]\n",
    "x = inputmarker.iloc[:,5]\n",
    "y = inputmarker.iloc[:,6]\n",
    "\n",
    "print(x,y,z)"
   ]
  },
  {
   "cell_type": "code",
   "execution_count": 27,
   "metadata": {},
   "outputs": [],
   "source": [
    "inputmarker.iloc[:,4] = z/16\n",
    "inputmarker.iloc[:,5] = x/64\n",
    "inputmarker.iloc[:,6] = y/64\n"
   ]
  },
  {
   "cell_type": "code",
   "execution_count": 31,
   "metadata": {},
   "outputs": [],
   "source": [
    "inputmarker.to_csv(\"test.apo\", index=False)"
   ]
  },
  {
   "cell_type": "code",
   "execution_count": 29,
   "metadata": {},
   "outputs": [
    {
     "name": "stdout",
     "output_type": "stream",
     "text": [
      "0     500.0\n",
      "1     500.0\n",
      "2     500.0\n",
      "3     500.0\n",
      "4     500.0\n",
      "5     500.0\n",
      "6     500.0\n",
      "7     500.0\n",
      "8     500.0\n",
      "9     500.0\n",
      "10    500.0\n",
      "11    500.0\n",
      "12    500.0\n",
      "13    500.0\n",
      "14    500.0\n",
      "15    500.0\n",
      "16    500.0\n",
      "17    500.0\n",
      "18    500.0\n",
      "19    500.0\n",
      "Name: volsize, dtype: float64\n"
     ]
    }
   ],
   "source": [
    "print(inputmarker.iloc[:,10])"
   ]
  },
  {
   "cell_type": "code",
   "execution_count": 30,
   "metadata": {},
   "outputs": [],
   "source": [
    "inputmarker.iloc[:,10] = inputmarker.iloc[:,10]/100"
   ]
  },
  {
   "cell_type": "code",
   "execution_count": null,
   "metadata": {},
   "outputs": [],
   "source": []
  }
 ],
 "metadata": {
  "kernelspec": {
   "display_name": "Python 3",
   "language": "python",
   "name": "python3"
  },
  "language_info": {
   "codemirror_mode": {
    "name": "ipython",
    "version": 3
   },
   "file_extension": ".py",
   "mimetype": "text/x-python",
   "name": "python",
   "nbconvert_exporter": "python",
   "pygments_lexer": "ipython3",
   "version": "3.7.3"
  }
 },
 "nbformat": 4,
 "nbformat_minor": 2
}
