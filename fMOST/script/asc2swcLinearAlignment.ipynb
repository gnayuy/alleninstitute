{
 "cells": [
  {
   "cell_type": "code",
   "execution_count": 1,
   "metadata": {},
   "outputs": [],
   "source": [
    "import os\n",
    "import numpy as np\n",
    "from scipy import io as sio\n",
    "import csv\n",
    "import matplotlib.pyplot as plt"
   ]
  },
  {
   "cell_type": "code",
   "execution_count": 66,
   "metadata": {},
   "outputs": [],
   "source": [
    "def loadswc(filepath):\n",
    "    '''\n",
    "    Load swc file as a N X 7 numpy array\n",
    "    '''\n",
    "    swc = []\n",
    "    with open(filepath) as f:\n",
    "        lines = f.read().split(\"\\n\")\n",
    "        for l in lines:\n",
    "            if not l.startswith('#'):\n",
    "                cells = l.split(' ')\n",
    "                if len(cells) == 7:\n",
    "                    cells = [float(c) for c in cells]\n",
    "                    # cells[2:5] = [c-1 for c in cells[2:5]]\n",
    "                    swc.append(cells)\n",
    "    return np.array(swc)\n",
    "\n",
    "\n",
    "def saveswc(filepath, swc):\n",
    "    if swc.shape[1] > 7:\n",
    "        swc = swc[:, :7]\n",
    "\n",
    "    with open(filepath, 'w') as f:\n",
    "        for i in range(swc.shape[0]):\n",
    "            print('%d %d %.3f %.3f %.3f %.3f %d' %\n",
    "                  tuple(swc[i, :].tolist()), file=f)\n",
    "            "
   ]
  },
  {
   "cell_type": "code",
   "execution_count": 67,
   "metadata": {},
   "outputs": [],
   "source": [
    "def linear_fit(x, y):\n",
    "    \"\"\"For set of points `(xi, yi)`, return linear polynomial `f(x) = k*x + m` that\n",
    "    minimizes the sum of quadratic errors.\n",
    "    \"\"\"\n",
    "    meanx = sum(x) / len(x)\n",
    "    meany = sum(y) / len(y)\n",
    "    k = sum((xi-meanx)*(yi-meany) for xi,yi in zip(x,y)) / sum((xi-meanx)**2 for xi in x)\n",
    "    m = meany - k*meanx\n",
    "    return k, m"
   ]
  },
  {
   "cell_type": "code",
   "execution_count": 36,
   "metadata": {},
   "outputs": [],
   "source": [
    "#swc1=loadswc('/Users/yangy/work/projects/fmost/02657-02671-X11930-Y12250_Den.swc')\n",
    "\n",
    "swc1 = np.genfromtxt(\"/Users/yangy/work/projects/fmost/02657-02671-X11930-Y12250_Den.swc\", delimiter=' ')"
   ]
  },
  {
   "cell_type": "code",
   "execution_count": 38,
   "metadata": {},
   "outputs": [
    {
     "data": {
      "text/plain": [
       "141"
      ]
     },
     "execution_count": 38,
     "metadata": {},
     "output_type": "execute_result"
    }
   ],
   "source": [
    "len(swc1)"
   ]
  },
  {
   "cell_type": "code",
   "execution_count": 68,
   "metadata": {},
   "outputs": [
    {
     "ename": "FileNotFoundError",
     "evalue": "[Errno 2] No such file or directory: '/Users/yangy/work/projects/fmost/anno1.ano.swc'",
     "output_type": "error",
     "traceback": [
      "\u001b[0;31m---------------------------------------------------------------------------\u001b[0m",
      "\u001b[0;31mFileNotFoundError\u001b[0m                         Traceback (most recent call last)",
      "\u001b[0;32m<ipython-input-68-6a52979e87db>\u001b[0m in \u001b[0;36m<module>\u001b[0;34m()\u001b[0m\n\u001b[0;32m----> 1\u001b[0;31m \u001b[0mswc2\u001b[0m\u001b[0;34m=\u001b[0m\u001b[0mloadswc\u001b[0m\u001b[0;34m(\u001b[0m\u001b[0;34m'/Users/yangy/work/projects/fmost/anno1.ano.swc'\u001b[0m\u001b[0;34m)\u001b[0m\u001b[0;34m\u001b[0m\u001b[0m\n\u001b[0m",
      "\u001b[0;32m<ipython-input-66-fe53006fb3b3>\u001b[0m in \u001b[0;36mloadswc\u001b[0;34m(filepath)\u001b[0m\n\u001b[1;32m      4\u001b[0m     '''\n\u001b[1;32m      5\u001b[0m     \u001b[0mswc\u001b[0m \u001b[0;34m=\u001b[0m \u001b[0;34m[\u001b[0m\u001b[0;34m]\u001b[0m\u001b[0;34m\u001b[0m\u001b[0m\n\u001b[0;32m----> 6\u001b[0;31m     \u001b[0;32mwith\u001b[0m \u001b[0mopen\u001b[0m\u001b[0;34m(\u001b[0m\u001b[0mfilepath\u001b[0m\u001b[0;34m)\u001b[0m \u001b[0;32mas\u001b[0m \u001b[0mf\u001b[0m\u001b[0;34m:\u001b[0m\u001b[0;34m\u001b[0m\u001b[0m\n\u001b[0m\u001b[1;32m      7\u001b[0m         \u001b[0mlines\u001b[0m \u001b[0;34m=\u001b[0m \u001b[0mf\u001b[0m\u001b[0;34m.\u001b[0m\u001b[0mread\u001b[0m\u001b[0;34m(\u001b[0m\u001b[0;34m)\u001b[0m\u001b[0;34m.\u001b[0m\u001b[0msplit\u001b[0m\u001b[0;34m(\u001b[0m\u001b[0;34m\"\\n\"\u001b[0m\u001b[0;34m)\u001b[0m\u001b[0;34m\u001b[0m\u001b[0m\n\u001b[1;32m      8\u001b[0m         \u001b[0;32mfor\u001b[0m \u001b[0ml\u001b[0m \u001b[0;32min\u001b[0m \u001b[0mlines\u001b[0m\u001b[0;34m:\u001b[0m\u001b[0;34m\u001b[0m\u001b[0m\n",
      "\u001b[0;31mFileNotFoundError\u001b[0m: [Errno 2] No such file or directory: '/Users/yangy/work/projects/fmost/anno1.ano.swc'"
     ]
    }
   ],
   "source": [
    "swc2=loadswc('/Users/yangy/work/projects/fmost/anno1.ano.swc')"
   ]
  },
  {
   "cell_type": "code",
   "execution_count": 19,
   "metadata": {},
   "outputs": [
    {
     "data": {
      "text/plain": [
       "141"
      ]
     },
     "execution_count": 19,
     "metadata": {},
     "output_type": "execute_result"
    }
   ],
   "source": [
    "len(swc2)"
   ]
  },
  {
   "cell_type": "code",
   "execution_count": 48,
   "metadata": {},
   "outputs": [],
   "source": [
    "x1 = swc1[:,2]\n",
    "x2 = swc2[:,2]\n",
    "\n",
    "kx,mx = linear_fit(x1,x2)\n",
    "\n",
    "y1 = swc1[:,3]\n",
    "y2 = swc2[:,3]\n",
    "\n",
    "ky,my = linear_fit(y1,y2)\n",
    "\n",
    "z1 = swc1[:,4]\n",
    "z2 = swc2[:,4]\n",
    "\n",
    "kz,mz = linear_fit(z1,z2)"
   ]
  },
  {
   "cell_type": "code",
   "execution_count": 49,
   "metadata": {},
   "outputs": [
    {
     "name": "stdout",
     "output_type": "stream",
     "text": [
      "3.3329396052496385 2097.118774629049\n",
      "-3.333150940968381 1166.1625793214516\n",
      "-0.9999999999999996 2581.6900000000005\n"
     ]
    }
   ],
   "source": [
    "print(kx,mx)\n",
    "print(ky,my)\n",
    "print(kz,mz)"
   ]
  },
  {
   "cell_type": "code",
   "execution_count": 50,
   "metadata": {},
   "outputs": [],
   "source": [
    "api=np.genfromtxt(\"/Users/yangy/work/projects/fmost/02657-02671-X11930-Y12250_Api.swc\", delimiter=' ')\n",
    "api[:,2] = api[:,2]*3.3329 + 2097.11877\n",
    "api[:,3] = -api[:,3]*3.333 + 1166.1626\n",
    "api[:,4] = 2581.69 - api[:,4]\n",
    "saveswc(\"/Users/yangy/work/projects/fmost/aligned_api.swc\", api)"
   ]
  },
  {
   "cell_type": "code",
   "execution_count": 57,
   "metadata": {},
   "outputs": [],
   "source": [
    "axon=np.genfromtxt(\"/Users/yangy/work/projects/fmost/02657-02671-X11930-Y12250_Axon.swc\", delimiter=' ')\n",
    "axon[:,2] = axon[:,2]*3.3329 + 2097.11877\n",
    "axon[:,3] = -axon[:,3]*3.333 + 1166.1626\n",
    "axon[:,4] = 2581.69 - axon[:,4]\n",
    "saveswc(\"/Users/yangy/work/projects/fmost/aligned_axon.swc\", axon)"
   ]
  },
  {
   "cell_type": "code",
   "execution_count": 52,
   "metadata": {},
   "outputs": [],
   "source": [
    "api[:,3] = -api[:,3]*3.333 + 1166.1626"
   ]
  },
  {
   "cell_type": "code",
   "execution_count": 53,
   "metadata": {},
   "outputs": [],
   "source": [
    "api[:,4] = 2581.69 - api[:,4]"
   ]
  },
  {
   "cell_type": "code",
   "execution_count": 56,
   "metadata": {},
   "outputs": [],
   "source": [
    "saveswc(\"/Users/yangy/work/projects/fmost/aligned_api.swc\", api)"
   ]
  },
  {
   "cell_type": "code",
   "execution_count": 55,
   "metadata": {},
   "outputs": [
    {
     "data": {
      "text/plain": [
       "(117, 7)"
      ]
     },
     "execution_count": 55,
     "metadata": {},
     "output_type": "execute_result"
    }
   ],
   "source": [
    "api.shape"
   ]
  },
  {
   "cell_type": "code",
   "execution_count": 63,
   "metadata": {},
   "outputs": [],
   "source": [
    "a=np.genfromtxt(\"/Users/yangy/work/projects/fmost/aligned_api.swc\", delimiter=' ')\n",
    "a[:,2] = 0.0625*a[:,2]\n",
    "a[:,3] = 0.0625*a[:,3]\n",
    "a[:,4] = 0.0625*a[:,4]\n",
    "saveswc(\"/Users/yangy/work/projects/fmost/aligned_api_ds.swc\", a)"
   ]
  },
  {
   "cell_type": "code",
   "execution_count": 64,
   "metadata": {},
   "outputs": [],
   "source": [
    "a=np.genfromtxt(\"/Users/yangy/work/projects/fmost/aligned_dendrite.swc\", delimiter=' ')\n",
    "a[:,2] = 0.0625*a[:,2]\n",
    "a[:,3] = 0.0625*a[:,3]\n",
    "a[:,4] = 0.0625*a[:,4]\n",
    "saveswc(\"/Users/yangy/work/projects/fmost/aligned_dendrite_ds.swc\", a)"
   ]
  },
  {
   "cell_type": "code",
   "execution_count": 65,
   "metadata": {},
   "outputs": [],
   "source": [
    "a=np.genfromtxt(\"/Users/yangy/work/projects/fmost/aligned_axon.swc\", delimiter=' ')\n",
    "a[:,2] = 0.0625*a[:,2]\n",
    "a[:,3] = 0.0625*a[:,3]\n",
    "a[:,4] = 0.0625*a[:,4]\n",
    "saveswc(\"/Users/yangy/work/projects/fmost/aligned_axon_ds.swc\", a)"
   ]
  },
  {
   "cell_type": "code",
   "execution_count": 62,
   "metadata": {},
   "outputs": [
    {
     "data": {
      "text/plain": [
       "10.0"
      ]
     },
     "execution_count": 62,
     "metadata": {},
     "output_type": "execute_result"
    }
   ],
   "source": [
    "16*0.625\n"
   ]
  },
  {
   "cell_type": "code",
   "execution_count": null,
   "metadata": {},
   "outputs": [],
   "source": []
  }
 ],
 "metadata": {
  "kernelspec": {
   "display_name": "Python 3",
   "language": "python",
   "name": "python3"
  },
  "language_info": {
   "codemirror_mode": {
    "name": "ipython",
    "version": 3
   },
   "file_extension": ".py",
   "mimetype": "text/x-python",
   "name": "python",
   "nbconvert_exporter": "python",
   "pygments_lexer": "ipython3",
   "version": "3.6.4"
  }
 },
 "nbformat": 4,
 "nbformat_minor": 2
}
