{
 "cells": [
  {
   "cell_type": "code",
   "execution_count": 32,
   "metadata": {},
   "outputs": [],
   "source": [
    "import numpy as np\n",
    "import seaborn as sns\n",
    "import matplotlib.pyplot as plt\n",
    "import matplotlib.ticker as ticker"
   ]
  },
  {
   "cell_type": "code",
   "execution_count": 9,
   "metadata": {},
   "outputs": [
    {
     "name": "stdout",
     "output_type": "stream",
     "text": [
      "['0.0000374', '0.0054242', '0.0016542', '0.0000504', '10.8846000', '0.0000495', '0.0519958', '0.0000501', '0.0000521', '0.0000504', '0.0000499', '0.0000500', '0.0253179', '0.1282100', '107.3540000', '13.1971000', '0.2181110', '0.3703130', '0.0232752', '0.3583310', '705.6120000', '0.3905880', '0.1910710', '0.1231610', '0.2516710', '0.0083985', '0.0000480', '0.1948720', '4.2556400', '0.0430694', '135.0150000', '5.7038300', '20.5436000', '0.4925650', '1532.9100000', '135.5720000', '0.0930101', '4.2874200', '5.7261800', '0.0000406', '0.2526290', '5.2572500', '0.2286550', '2.3592100', '0.9427420', '0.1723030', '0.1546750', '0.2904020', '0.1290640', '0.1452160', '0.3033310', '0.0320442', '2.2019600', '0.0931455', '0.2197370', '0.0634612', '22.2964000', '0.0000193', '0.2222430', '0.0205564', '0.0003011', '5.0528000', '0.0549317', '0.0159803', '0.2419140', '18.6191000', '0.0000126', '0.0000312', '0.0000509', '0.0602821', '0.1121650', '0.5351000', '0.0184819', '2.4087200', '0.2618850', '2.5677500', '41.8567000', '0.1023280', '8.9850400', '0.1571680', '0.1534030', '0.1898720', '18.1549000', '0.0042083', '0.0563921', '0.0067441', '0.0005933', '0.0045033', '0.0458637', '0.0741539', '0.2112720', '0.0001230', '0.0413193', '0.0297210', '0.0062672', '0.0053480', '0.0001342', '0.0613886', '0.2414840', '0.2758310', '0.1503160', '0.2880990', '0.1948350', '0.1517870', '0.2029460', '1.4937900', '9.3006900', '0.1993680', '3.7472800', '0.1383110', '0.0000993', '0.0001022', '0.5448460', '0.5401280', '0.5778160', '0.1597350', '0.2875620', '0.3072160', '19.4202000', '2.3470100', '0.2718730', '0.1520670', '175.2130000', '0.1511610']\n"
     ]
    }
   ],
   "source": [
    "with open('stat17302.txt', 'r') as f:\n",
    "    y = f.read().splitlines()\n",
    "    \n",
    "print(x)"
   ]
  },
  {
   "cell_type": "code",
   "execution_count": 10,
   "metadata": {},
   "outputs": [],
   "source": [
    "y = list(map(float, y))"
   ]
  },
  {
   "cell_type": "code",
   "execution_count": 11,
   "metadata": {},
   "outputs": [
    {
     "name": "stdout",
     "output_type": "stream",
     "text": [
      "[3.74e-05, 0.0054242, 0.0016542, 5.04e-05, 10.8846, 4.95e-05, 0.0519958, 5.01e-05, 5.21e-05, 5.04e-05, 4.99e-05, 5e-05, 0.0253179, 0.12821, 107.354, 13.1971, 0.218111, 0.370313, 0.0232752, 0.358331, 705.612, 0.390588, 0.191071, 0.123161, 0.251671, 0.0083985, 4.8e-05, 0.194872, 4.25564, 0.0430694, 135.015, 5.70383, 20.5436, 0.492565, 1532.91, 135.572, 0.0930101, 4.28742, 5.72618, 4.06e-05, 0.252629, 5.25725, 0.228655, 2.35921, 0.942742, 0.172303, 0.154675, 0.290402, 0.129064, 0.145216, 0.303331, 0.0320442, 2.20196, 0.0931455, 0.219737, 0.0634612, 22.2964, 1.93e-05, 0.222243, 0.0205564, 0.0003011, 5.0528, 0.0549317, 0.0159803, 0.241914, 18.6191, 1.26e-05, 3.12e-05, 5.09e-05, 0.0602821, 0.112165, 0.5351, 0.0184819, 2.40872, 0.261885, 2.56775, 41.8567, 0.102328, 8.98504, 0.157168, 0.153403, 0.189872, 18.1549, 0.0042083, 0.0563921, 0.0067441, 0.0005933, 0.0045033, 0.0458637, 0.0741539, 0.211272, 0.000123, 0.0413193, 0.029721, 0.0062672, 0.005348, 0.0001342, 0.0613886, 0.241484, 0.275831, 0.150316, 0.288099, 0.194835, 0.151787, 0.202946, 1.49379, 9.30069, 0.199368, 3.74728, 0.138311, 9.93e-05, 0.0001022, 0.544846, 0.540128, 0.577816, 0.159735, 0.287562, 0.307216, 19.4202, 2.34701, 0.271873, 0.152067, 175.213, 0.151161]\n"
     ]
    }
   ],
   "source": [
    "print(y)"
   ]
  },
  {
   "cell_type": "code",
   "execution_count": 36,
   "metadata": {},
   "outputs": [
    {
     "name": "stdout",
     "output_type": "stream",
     "text": [
      "[  1   2   3   4   5   6   7   8   9  10  11  12  13  14  15  16  17  18\n",
      "  19  20  21  22  23  24  25  26  27  28  29  30  31  32  33  34  35  36\n",
      "  37  38  39  40  41  42  43  44  45  46  47  48  49  50  51  52  53  54\n",
      "  55  56  57  58  59  60  61  62  63  64  65  66  67  68  69  70  71  72\n",
      "  73  74  75  76  77  78  79  80  81  82  83  84  85  86  87  88  89  90\n",
      "  91  92  93  94  95  96  97  98  99 100 101 102 103 104 105 106 107 108\n",
      " 109 110 111 112 113 114 115 116 117 118 119 120 121 122 123 124] 124 124\n"
     ]
    }
   ],
   "source": [
    "result = np.array(y)\n",
    "\n",
    "x = np.arange(1,125)\n",
    "\n",
    "print(x, x.size, result.size)"
   ]
  },
  {
   "cell_type": "code",
   "execution_count": 84,
   "metadata": {},
   "outputs": [
    {
     "data": {
      "image/png": "[encoded data removed]",
      "text/plain": [
       "<Figure size 432x288 with 1 Axes>"
      ]
     },
     "metadata": {
      "needs_background": "light"
     },
     "output_type": "display_data"
    }
   ],
   "source": [
    "xx = np.arange(min(x), max(x),10)\n",
    "\n",
    "xlabels = []\n",
    "for i in x:\n",
    "    if i not in xx:\n",
    "        xlabels.append(' ')\n",
    "    else:\n",
    "        xlabels.append(i)\n",
    "\n",
    "ax = sns.barplot(x=x,y=result,palette=\"rocket\")\n",
    "\n",
    "#ax.xaxis.set_ticks(xx)\n",
    "\n",
    "#ax.xaxis.set_major_locator(ticker.MultipleLocator(2))\n",
    "\n",
    "#plt.setp(ax.get_xticklabels(), rotation=45)\n",
    "\n",
    "ax.set_yscale('log')\n",
    "#ax.yaxis.set_major_formatter(ticker.FormatStrFormatter('%.2f'))\n",
    "#ax.yaxis.set_major_formatter(ticker.StrMethodFormatter('{x:,.2f}'))\n",
    "\n",
    "#plt.xticks(x, xlabels, rotation=45)\n",
    "plt.xticks(x, xlabels)\n",
    "\n",
    "plt.ylabel('distance')\n",
    "plt.xlabel('neuron number')\n",
    "\n",
    "plt.savefig(\"comparison.pdf\")"
   ]
  },
  {
   "cell_type": "code",
   "execution_count": 45,
   "metadata": {},
   "outputs": [
    {
     "name": "stdout",
     "output_type": "stream",
     "text": [
      "1 124\n"
     ]
    }
   ],
   "source": [
    "print(min(x), max(x))"
   ]
  },
  {
   "cell_type": "code",
   "execution_count": 74,
   "metadata": {},
   "outputs": [
    {
     "data": {
      "text/plain": [
       "34"
      ]
     },
     "execution_count": 74,
     "metadata": {},
     "output_type": "execute_result"
    }
   ],
   "source": [
    "np.argmax(y)"
   ]
  },
  {
   "cell_type": "code",
   "execution_count": 76,
   "metadata": {},
   "outputs": [
    {
     "name": "stdout",
     "output_type": "stream",
     "text": [
      "1532.91 1532.91 35\n"
     ]
    }
   ],
   "source": [
    "print(y[34], max(y), x[34])"
   ]
  },
  {
   "cell_type": "code",
   "execution_count": null,
   "metadata": {},
   "outputs": [],
   "source": []
  }
 ],
 "metadata": {
  "kernelspec": {
   "display_name": "Python 3",
   "language": "python",
   "name": "python3"
  },
  "language_info": {
   "codemirror_mode": {
    "name": "ipython",
    "version": 3
   },
   "file_extension": ".py",
   "mimetype": "text/x-python",
   "name": "python",
   "nbconvert_exporter": "python",
   "pygments_lexer": "ipython3",
   "version": "3.7.3"
  }
 },
 "nbformat": 4,
 "nbformat_minor": 2
}
