{
 "cells": [
  {
   "cell_type": "code",
   "execution_count": 100,
   "metadata": {},
   "outputs": [],
   "source": [
    "import pandas as pd\n",
    "import numpy as np\n",
    "import matplotlib.pyplot as plt\n",
    "from mpl_toolkits import mplot3d\n",
    "\n",
    "import matplotlib.cm as cm\n",
    "from scipy import optimize\n",
    "from mpl_toolkits.mplot3d import Axes3D"
   ]
  },
  {
   "cell_type": "code",
   "execution_count": 121,
   "metadata": {},
   "outputs": [],
   "source": [
    "def affine_line(s, theta, phi, x0, y0, z0):\n",
    "    a = np.sin(theta) * np.cos(phi)\n",
    "    b = np.sin(theta) * np.sin(phi)\n",
    "    c = np.cos(theta)\n",
    "    return np.array([s*a + x0, s*b+y0, s*c+z0])\n",
    "\n",
    "\n",
    "def point_to_line_distance(x,y,z,theta,phi,x0,y0,z0):\n",
    "    xx = x - x0\n",
    "    yy = y - y0\n",
    "    zz = z - z0\n",
    "    \n",
    "    a = np.sin(theta) * np.cos(phi)\n",
    "    b = np.sin(theta) * np.sin(phi)\n",
    "    c = np.cos(theta)\n",
    "    \n",
    "    r = np.array([xx, yy, zz])\n",
    "    t = np.array([a,b,c])\n",
    "    \n",
    "    return np.linalg.norm(r - np.dot(r,t)*t)\n",
    "\n",
    "\n",
    "def residuals(parameters, fixpoint, data, weights=None):\n",
    "    theta, phi = parameters\n",
    "    x0, y0, z0 = fixpoint\n",
    "    if weights is None:\n",
    "        w = np.ones(len(data))\n",
    "    else:\n",
    "        w = np.array(weights)\n",
    "        \n",
    "    diff = np.array([ point_to_line_distance(x,y,z,theta,phi,*fixpoint) for x,y,z in data])\n",
    "    diff = diff*w\n",
    "    return diff\n",
    "\n",
    "\n",
    "def point_to_point_distance(p,q):\n",
    "    squared_dist = np.sum((p-q)**2, axis=0)\n",
    "    dist = np.sqrt(squared_dist)\n",
    "    return dist"
   ]
  },
  {
   "cell_type": "code",
   "execution_count": 24,
   "metadata": {},
   "outputs": [],
   "source": [
    "\n",
    "neuron = \"swcs_ivscc/test.swc\"\n",
    "\n",
    "df = pd.read_csv(neuron, delimiter=' ')\n"
   ]
  },
  {
   "cell_type": "code",
   "execution_count": 25,
   "metadata": {},
   "outputs": [],
   "source": [
    "swc = df.values"
   ]
  },
  {
   "cell_type": "code",
   "execution_count": 26,
   "metadata": {},
   "outputs": [
    {
     "name": "stdout",
     "output_type": "stream",
     "text": [
      "(2171, 7)\n"
     ]
    }
   ],
   "source": [
    "print(swc.shape)"
   ]
  },
  {
   "cell_type": "code",
   "execution_count": 27,
   "metadata": {},
   "outputs": [
    {
     "data": {
      "text/plain": [
       "array([[ 1.000000e+00,  1.000000e+00,  2.725008e+02, ...,  3.304000e+01,\n",
       "         6.239900e+00, -1.000000e+00],\n",
       "       [ 2.000000e+00,  4.000000e+00,  2.752350e+02, ...,  3.402170e+01,\n",
       "         2.020000e-01,  1.000000e+00],\n",
       "       [ 3.000000e+00,  4.000000e+00,  2.758676e+02, ...,  3.436240e+01,\n",
       "         2.620000e-01,  2.000000e+00],\n",
       "       ...,\n",
       "       [ 2.169000e+03,  3.000000e+00,  2.809664e+02, ...,  3.844620e+01,\n",
       "         1.271000e-01,  2.168000e+03],\n",
       "       [ 2.170000e+03,  3.000000e+00,  2.813016e+02, ...,  3.835440e+01,\n",
       "         1.144000e-01,  2.169000e+03],\n",
       "       [ 2.171000e+03,  3.000000e+00,  2.811952e+02, ...,  3.892000e+01,\n",
       "         1.144000e-01,  2.170000e+03]])"
      ]
     },
     "execution_count": 27,
     "metadata": {},
     "output_type": "execute_result"
    }
   ],
   "source": [
    "# 0    1   2  3  4  5   6\n",
    "# id type  x  y  z  r  pid\n",
    "\n",
    "swc"
   ]
  },
  {
   "cell_type": "code",
   "execution_count": 30,
   "metadata": {},
   "outputs": [
    {
     "name": "stdout",
     "output_type": "stream",
     "text": [
      "1.0 -1.0\n"
     ]
    }
   ],
   "source": [
    "print(swc[0,0], swc[0,6])"
   ]
  },
  {
   "cell_type": "code",
   "execution_count": 31,
   "metadata": {},
   "outputs": [],
   "source": [
    "n, m = swc.shape"
   ]
  },
  {
   "cell_type": "code",
   "execution_count": 32,
   "metadata": {},
   "outputs": [
    {
     "name": "stdout",
     "output_type": "stream",
     "text": [
      "2171\n"
     ]
    }
   ],
   "source": [
    "print(n)"
   ]
  },
  {
   "cell_type": "code",
   "execution_count": 33,
   "metadata": {},
   "outputs": [],
   "source": [
    "branch = np.zeros(n)"
   ]
  },
  {
   "cell_type": "code",
   "execution_count": 35,
   "metadata": {},
   "outputs": [
    {
     "name": "stdout",
     "output_type": "stream",
     "text": [
      "[0. 0. 0. ... 0. 0. 0.] (2171,)\n"
     ]
    }
   ],
   "source": [
    "print(branch, branch.shape)"
   ]
  },
  {
   "cell_type": "code",
   "execution_count": 37,
   "metadata": {},
   "outputs": [],
   "source": [
    "for i in range(1, n-1):\n",
    "    branch[ int(swc[i,6])-1 ] = branch[ int(swc[i,6])-1 ] + 1"
   ]
  },
  {
   "cell_type": "code",
   "execution_count": 44,
   "metadata": {},
   "outputs": [
    {
     "name": "stdout",
     "output_type": "stream",
     "text": [
      "19\n"
     ]
    }
   ],
   "source": [
    "print(len(list(x for x in branch if x==2)))"
   ]
  },
  {
   "cell_type": "code",
   "execution_count": 53,
   "metadata": {},
   "outputs": [
    {
     "name": "stdout",
     "output_type": "stream",
     "text": [
      "(array([   0,    4,   10,   21,   46,   57,   82,  567,  741,  956, 1105,\n",
      "       1208, 1319, 1527, 1589, 1592, 1608, 1630, 1908, 2032]),)\n"
     ]
    }
   ],
   "source": [
    "print(np.where(branch>=2))"
   ]
  },
  {
   "cell_type": "code",
   "execution_count": 50,
   "metadata": {},
   "outputs": [
    {
     "name": "stdout",
     "output_type": "stream",
     "text": [
      "5.0 (array([   5, 1178]),)\n"
     ]
    }
   ],
   "source": [
    "print(swc[4,0], np.where(swc[:,6]==swc[4,0]))"
   ]
  },
  {
   "cell_type": "code",
   "execution_count": 51,
   "metadata": {},
   "outputs": [
    {
     "name": "stdout",
     "output_type": "stream",
     "text": [
      "5.0\n"
     ]
    }
   ],
   "source": [
    "print(swc[1178,6])"
   ]
  },
  {
   "cell_type": "code",
   "execution_count": 52,
   "metadata": {},
   "outputs": [
    {
     "name": "stdout",
     "output_type": "stream",
     "text": [
      "(array([   1, 1501, 1582, 1841, 1863, 2015]),)\n"
     ]
    }
   ],
   "source": [
    "print(np.where(swc[:,6]==1))"
   ]
  },
  {
   "cell_type": "code",
   "execution_count": 153,
   "metadata": {},
   "outputs": [
    {
     "name": "stdout",
     "output_type": "stream",
     "text": [
      "[   0    4   10   21   46   57   82  567  741  956 1105 1208 1319 1527\n",
      " 1589 1592 1608 1630 1908 2032]\n",
      "20\n",
      "explort branch 0\n",
      "6\n",
      "frag 0 (467, 3)\n",
      "frag 1 (533, 3)\n",
      "frag 2 (631, 3)\n",
      "frag 3 (653, 3)\n",
      "frag 4 (750, 3)\n",
      "frag 5 (862, 3)\n",
      "explort branch 1\n",
      "2\n",
      "frag 0 (463, 3)\n",
      "frag 1 (604, 3)\n",
      "explort branch 2\n",
      "2\n",
      "frag 0 (457, 3)\n",
      "frag 1 (592, 3)\n",
      "explort branch 3\n",
      "2\n",
      "frag 0 (446, 3)\n",
      "frag 1 (569, 3)\n",
      "explort branch 4\n",
      "2\n",
      "frag 0 (421, 3)\n",
      "frag 1 (518, 3)\n",
      "explort branch 5\n",
      "2\n",
      "frag 0 (410, 3)\n",
      "frag 1 (439, 3)\n",
      "explort branch 6\n",
      "2\n",
      "frag 0 (385, 3)\n",
      "frag 1 (443, 3)\n",
      "explort branch 7\n",
      "2\n",
      "frag 0 (84, 3)\n",
      "frag 1 (144, 3)\n",
      "explort branch 8\n",
      "2\n",
      "frag 0 (93, 3)\n",
      "frag 1 (199, 3)\n",
      "explort branch 9\n",
      "2\n",
      "frag 0 (119, 3)\n",
      "frag 1 (206, 3)\n",
      "explort branch 10\n",
      "2\n",
      "frag 0 (57, 3)\n",
      "frag 1 (73, 3)\n",
      "explort branch 11\n",
      "2\n",
      "frag 0 (111, 3)\n",
      "frag 1 (218, 3)\n",
      "explort branch 12\n",
      "2\n",
      "frag 0 (107, 3)\n",
      "frag 1 (182, 3)\n",
      "explort branch 13\n",
      "2\n",
      "frag 0 (40, 3)\n",
      "frag 1 (55, 3)\n",
      "explort branch 14\n",
      "2\n",
      "frag 0 (91, 3)\n",
      "frag 1 (133, 3)\n",
      "explort branch 15\n",
      "2\n",
      "frag 0 (88, 3)\n",
      "frag 1 (126, 3)\n",
      "explort branch 16\n",
      "2\n",
      "frag 0 (72, 3)\n",
      "frag 1 (81, 3)\n",
      "explort branch 17\n",
      "2\n",
      "frag 0 (50, 3)\n",
      "frag 1 (122, 3)\n",
      "explort branch 18\n",
      "2\n",
      "frag 0 (52, 3)\n",
      "frag 1 (107, 3)\n",
      "(42,) (42,)\n",
      "17987.69009448554\n",
      "[ 4.82297726  7.66666388 13.01207172 13.11647779 17.67871958 18.95629473\n",
      "  4.75453557 14.34209408  4.62927949 16.97977241  4.37517012 13.60371233\n",
      "  3.52738463 15.3273765   3.17140282  3.74170372  2.72010378  4.19126023\n",
      "  1.18408352 13.14260989  1.67427427 15.86005575  3.72779355 12.58334103\n",
      "  1.1773547   1.84707753  1.83174784 20.95685164  3.0034355   7.36337422\n",
      "  1.02730801  2.64556738  3.67945627  5.25637679  3.44477231  5.51442385\n",
      "  2.92548818  3.29323308  2.53568177  7.98832306  1.28173588  8.93075856]\n"
     ]
    }
   ],
   "source": [
    "# split swc into fragments\n",
    "\n",
    "n, m = swc.shape\n",
    "branches = np.zeros(n)\n",
    "\n",
    "for i in range(1, n-1):\n",
    "    branches[ int(swc[i,6])-1 ] = branches[ int(swc[i,6])-1 ] + 1\n",
    "    \n",
    "idxBranchNodes = np.where(branches >= 2)\n",
    "\n",
    "idxNodes = idxBranchNodes[0]\n",
    "\n",
    "print(idxNodes)\n",
    "\n",
    "nBranches = idxNodes.size\n",
    "\n",
    "print(nBranches)\n",
    "\n",
    "length = np.zeros(1)\n",
    "linelike = np.zeros(1) # average distance of points to line\n",
    "\n",
    "for i in range(0, nBranches-1):\n",
    "    \n",
    "    print(\"explort branch\", i)\n",
    "    index = idxNodes[i]\n",
    "    \n",
    "    val = swc[index,0]\n",
    "    \n",
    "    nextNodes = np.where(swc[:,6] == val)\n",
    "    \n",
    "    fragments = nextNodes[0]\n",
    "    \n",
    "    nFrags = fragments.size\n",
    "    \n",
    "    print(nFrags)\n",
    "    \n",
    "    x = np.array([ swc[index,2] ])\n",
    "    y = np.array([ swc[index,3] ])\n",
    "    z = np.array([ swc[index,4] ])\n",
    "\n",
    "    #data[:,0] = np.array( [ swc[index,2], swc[index,3], swc[index,4] ])\n",
    "    \n",
    "    for j in range(0, nFrags):\n",
    "        node = fragments[j]\n",
    "        \n",
    "        result = np.where(swc[:,6]==swc[node,0])\n",
    "        \n",
    "        x = np.insert(x, x.size, swc[node,2])\n",
    "        y = np.insert(y, y.size, swc[node,3])\n",
    "        z = np.insert(z, z.size, swc[node,4])\n",
    "        \n",
    "        while result[0].size > 0:\n",
    "            node = result[0][0]\n",
    "            \n",
    "            x = np.insert(x, x.size, swc[node,2])\n",
    "            y = np.insert(y, y.size, swc[node,3])\n",
    "            z = np.insert(z, z.size, swc[node,4])\n",
    "            \n",
    "            result = np.where(swc[:,6]==swc[node,0])\n",
    "            \n",
    "        data = np.transpose(np.array([x,y,z]))\n",
    "        nData,mData = data.shape\n",
    "        print(\"frag\",j,data.shape)\n",
    "        \n",
    "        fixpoint = np.array([ np.mean(data[:,0]), np.mean(data[:,1]), np.mean(data[:,2]) ] )\n",
    "        bestfitW, success = optimize.leastsq(residuals, [0,0], args=(fixpoint, data) )\n",
    "                                             \n",
    "        diff = residuals(bestfitW, fixpoint, data)\n",
    "        linelike = np.insert(linelike, linelike.size, np.mean(diff))\n",
    "\n",
    "        lengthFrag = 0\n",
    "        for i in range(1,nData):\n",
    "            p = data[i-1]\n",
    "            q = data[i]\n",
    "            lengthFrag = lengthFrag + point_to_point_distance(p,q)\n",
    "\n",
    "        length = np.insert(length, length.size, lengthFrag)\n",
    "\n",
    "# remove the first element init by 0\n",
    "length = np.delete(length, 0,0)\n",
    "linelike = np.delete(linelike, 0,0)\n",
    "\n",
    "print(length.shape, linelike.shape)\n",
    "\n",
    "totallength = np.sum(length)\n",
    "\n",
    "print(totallength)\n",
    "print(linelike)\n",
    "\n",
    "\n",
    "\n",
    "\n",
    "\n",
    "\n",
    "\n"
   ]
  },
  {
   "cell_type": "code",
   "execution_count": 92,
   "metadata": {},
   "outputs": [
    {
     "name": "stdout",
     "output_type": "stream",
     "text": [
      "[277.0871] [513.7407] [35.4936]\n",
      "[   5 1178]\n",
      "(array([6]),)\n",
      "6\n",
      "7\n",
      "8\n",
      "9\n",
      "10\n",
      "11\n",
      "12\n",
      "13\n",
      "14\n",
      "15\n",
      "16\n",
      "17\n",
      "18\n",
      "19\n",
      "20\n",
      "21\n",
      "22\n",
      "23\n",
      "24\n",
      "25\n",
      "26\n",
      "27\n",
      "28\n",
      "29\n",
      "30\n",
      "31\n",
      "32\n",
      "33\n",
      "34\n",
      "35\n",
      "36\n",
      "37\n",
      "38\n",
      "39\n",
      "40\n",
      "41\n",
      "42\n",
      "43\n",
      "44\n",
      "45\n",
      "46\n",
      "47\n",
      "48\n",
      "49\n",
      "50\n",
      "51\n",
      "52\n",
      "53\n",
      "54\n",
      "55\n",
      "56\n",
      "57\n",
      "58\n",
      "59\n",
      "60\n",
      "61\n",
      "62\n",
      "63\n",
      "64\n",
      "65\n",
      "66\n",
      "67\n",
      "68\n",
      "69\n",
      "70\n",
      "71\n",
      "72\n",
      "73\n",
      "74\n",
      "75\n",
      "76\n",
      "77\n",
      "78\n",
      "79\n",
      "80\n",
      "81\n",
      "82\n",
      "83\n",
      "84\n",
      "85\n",
      "86\n",
      "87\n",
      "88\n",
      "89\n",
      "90\n",
      "91\n",
      "92\n",
      "93\n",
      "94\n",
      "95\n",
      "96\n",
      "97\n",
      "98\n",
      "99\n",
      "100\n",
      "101\n",
      "102\n",
      "103\n",
      "104\n",
      "105\n",
      "106\n",
      "107\n",
      "108\n",
      "109\n",
      "110\n",
      "111\n",
      "112\n",
      "113\n",
      "114\n",
      "115\n",
      "116\n",
      "117\n",
      "118\n",
      "119\n",
      "120\n",
      "121\n",
      "122\n",
      "123\n",
      "124\n",
      "125\n",
      "126\n",
      "127\n",
      "128\n",
      "129\n",
      "130\n",
      "131\n",
      "132\n",
      "133\n",
      "134\n",
      "135\n",
      "136\n",
      "137\n",
      "138\n",
      "139\n",
      "140\n",
      "141\n",
      "142\n",
      "143\n",
      "144\n",
      "145\n",
      "146\n",
      "147\n",
      "148\n",
      "149\n",
      "150\n",
      "151\n",
      "152\n",
      "153\n",
      "154\n",
      "155\n",
      "156\n",
      "157\n",
      "158\n",
      "159\n",
      "160\n",
      "161\n",
      "162\n",
      "163\n",
      "164\n",
      "165\n",
      "166\n",
      "167\n",
      "168\n",
      "169\n",
      "170\n",
      "171\n",
      "172\n",
      "173\n",
      "174\n",
      "175\n",
      "176\n",
      "177\n",
      "178\n",
      "179\n",
      "180\n",
      "181\n",
      "182\n",
      "183\n",
      "184\n",
      "185\n",
      "186\n",
      "187\n",
      "188\n",
      "189\n",
      "190\n",
      "191\n",
      "192\n",
      "193\n",
      "194\n",
      "195\n",
      "196\n",
      "197\n",
      "198\n",
      "199\n",
      "200\n",
      "201\n",
      "202\n",
      "203\n",
      "204\n",
      "205\n",
      "206\n",
      "207\n",
      "208\n",
      "209\n",
      "210\n",
      "211\n",
      "212\n",
      "213\n",
      "214\n",
      "215\n",
      "216\n",
      "217\n",
      "218\n",
      "219\n",
      "220\n",
      "221\n",
      "222\n",
      "223\n",
      "224\n",
      "225\n",
      "226\n",
      "227\n",
      "228\n",
      "229\n",
      "230\n",
      "231\n",
      "232\n",
      "233\n",
      "234\n",
      "235\n",
      "236\n",
      "237\n",
      "238\n",
      "239\n",
      "240\n",
      "241\n",
      "242\n",
      "243\n",
      "244\n",
      "245\n",
      "246\n",
      "247\n",
      "248\n",
      "249\n",
      "250\n",
      "251\n",
      "252\n",
      "253\n",
      "254\n",
      "255\n",
      "256\n",
      "257\n",
      "258\n",
      "259\n",
      "260\n",
      "261\n",
      "262\n",
      "263\n",
      "264\n",
      "265\n",
      "266\n",
      "267\n",
      "268\n",
      "269\n",
      "270\n",
      "271\n",
      "272\n",
      "273\n",
      "274\n",
      "275\n",
      "276\n",
      "277\n",
      "278\n",
      "279\n",
      "280\n",
      "281\n",
      "282\n",
      "283\n",
      "284\n",
      "285\n",
      "286\n",
      "287\n",
      "288\n",
      "289\n",
      "290\n",
      "291\n",
      "292\n",
      "293\n",
      "294\n",
      "295\n",
      "296\n",
      "297\n",
      "298\n",
      "299\n",
      "300\n",
      "301\n",
      "302\n",
      "303\n",
      "304\n",
      "305\n",
      "306\n",
      "307\n",
      "308\n",
      "309\n",
      "310\n",
      "311\n",
      "312\n",
      "313\n",
      "314\n",
      "315\n",
      "316\n",
      "317\n",
      "318\n",
      "319\n",
      "320\n",
      "321\n",
      "322\n",
      "323\n",
      "324\n",
      "325\n",
      "326\n",
      "327\n",
      "328\n",
      "329\n",
      "330\n",
      "331\n",
      "332\n",
      "333\n",
      "334\n",
      "335\n",
      "336\n",
      "337\n",
      "338\n",
      "339\n",
      "340\n",
      "341\n",
      "342\n",
      "343\n",
      "344\n",
      "345\n",
      "346\n",
      "347\n",
      "348\n",
      "349\n",
      "350\n",
      "351\n",
      "352\n",
      "353\n",
      "354\n",
      "355\n",
      "356\n",
      "357\n",
      "358\n",
      "359\n",
      "360\n",
      "361\n",
      "362\n",
      "363\n",
      "364\n",
      "365\n",
      "366\n",
      "367\n",
      "368\n",
      "369\n",
      "370\n",
      "371\n",
      "372\n",
      "373\n",
      "374\n",
      "375\n",
      "376\n",
      "377\n",
      "378\n",
      "379\n",
      "380\n",
      "381\n",
      "382\n",
      "383\n",
      "384\n",
      "385\n",
      "386\n",
      "387\n",
      "388\n",
      "389\n",
      "390\n",
      "391\n",
      "392\n",
      "393\n",
      "394\n",
      "395\n",
      "396\n",
      "397\n",
      "398\n",
      "399\n",
      "400\n",
      "401\n",
      "402\n",
      "403\n",
      "404\n",
      "405\n",
      "406\n",
      "407\n",
      "408\n",
      "409\n",
      "410\n",
      "411\n",
      "412\n",
      "413\n",
      "414\n",
      "415\n",
      "416\n",
      "417\n",
      "418\n",
      "419\n",
      "420\n",
      "421\n",
      "422\n",
      "423\n",
      "424\n",
      "425\n",
      "426\n",
      "427\n",
      "428\n",
      "429\n",
      "430\n",
      "431\n",
      "432\n",
      "433\n",
      "434\n",
      "435\n",
      "436\n",
      "437\n",
      "438\n",
      "439\n",
      "440\n",
      "441\n",
      "442\n",
      "443\n",
      "444\n",
      "445\n",
      "446\n",
      "447\n",
      "448\n",
      "449\n",
      "450\n",
      "451\n",
      "452\n",
      "453\n",
      "454\n",
      "455\n",
      "456\n",
      "457\n",
      "458\n",
      "459\n",
      "460\n",
      "461\n",
      "462\n",
      "463\n",
      "464\n",
      "465\n",
      "466\n"
     ]
    }
   ],
   "source": [
    "\n",
    "\n",
    "\n",
    "result = np.where(swc[:,6]==3000)\n",
    "\n",
    "#print(dir(result), result[0].size)\n",
    "\n",
    "\n",
    "branchnode = swc[4,0]\n",
    "\n",
    "nextnodes = np.where(swc[:,6]==branchnode)\n",
    "\n",
    "nodes = nextnodes[0]\n",
    "\n",
    "x = np.array([ swc[4,2] ])\n",
    "y = np.array([ swc[4,3] ])\n",
    "z = np.array([ swc[4,4] ])\n",
    "\n",
    "print(x, y, z)\n",
    "\n",
    "\n",
    "print(nodes)\n",
    "\n",
    "\n",
    "\n",
    "x = np.insert(x, x.size, swc[5,2])\n",
    "y = np.insert(y, y.size, swc[5,3])\n",
    "z = np.insert(z, z.size, swc[5,4])\n",
    "\n",
    "\n",
    "\n",
    "result = np.where(swc[:,6]==swc[5,0])\n",
    "\n",
    "print(result)\n",
    "\n",
    "while result[0].size > 0:\n",
    "    index = result[0][0]\n",
    "    print(index)\n",
    "    \n",
    "    x = np.insert(x, x.size, swc[index,2])\n",
    "    y = np.insert(y, y.size, swc[index,3])\n",
    "    z = np.insert(z, z.size, swc[index,4])\n",
    "    \n",
    "    result = np.where(swc[:,6]==swc[index,0])\n",
    "\n",
    "\n",
    "\n",
    "\n"
   ]
  },
  {
   "cell_type": "code",
   "execution_count": 112,
   "metadata": {},
   "outputs": [
    {
     "name": "stdout",
     "output_type": "stream",
     "text": [
      "461.60400000000004 277.0871 513.7407 132.7246 79.24 35.4936\n"
     ]
    }
   ],
   "source": [
    "print(np.max(x), np.min(x), np.max(y), np.min(y), np.max(z), np.min(z))"
   ]
  },
  {
   "cell_type": "code",
   "execution_count": 113,
   "metadata": {},
   "outputs": [
    {
     "name": "stdout",
     "output_type": "stream",
     "text": [
      "[ 1.47220332 -1.11500084]\n"
     ]
    }
   ],
   "source": [
    "\n",
    "# 3d line fit\n",
    "\n",
    "data = np.transpose(np.array([x,y,z]))\n",
    "\n",
    "fixpoint = np.array([ np.mean(data[:,0]), np.mean(data[:,1]), np.mean(data[:,2]) ] )\n",
    "\n",
    "bestfitW, success = optimize.leastsq(residuals, [0,0], args=(fixpoint, data) )\n",
    "\n",
    "uwline = np.array([ affine_line(s, bestfitW[0], bestfitW[1], *fixpoint) for s in np.linspace(0, 600, 600) ])\n",
    "\n",
    "print(bestfitW)"
   ]
  },
  {
   "cell_type": "code",
   "execution_count": 116,
   "metadata": {
    "scrolled": true
   },
   "outputs": [
    {
     "data": {
      "image/png": "[encoded data removed]",
      "text/plain": [
       "<Figure size 432x288 with 1 Axes>"
      ]
     },
     "metadata": {
      "needs_background": "light"
     },
     "output_type": "display_data"
    }
   ],
   "source": [
    "fig = plt.figure()\n",
    "ax = fig.add_subplot(111, projection='3d')\n",
    "\n",
    "ax.scatter(x,y,z, c='r')\n",
    "ax.plot(*np.transpose(uwline))\n",
    "\n",
    "plt.show()"
   ]
  },
  {
   "cell_type": "code",
   "execution_count": 119,
   "metadata": {},
   "outputs": [
    {
     "name": "stdout",
     "output_type": "stream",
     "text": [
      "(463,) (463, 3)\n"
     ]
    }
   ],
   "source": [
    "diff = residuals(bestfitW, fixpoint, data)\n",
    "\n",
    "print(diff.shape, data.shape)"
   ]
  },
  {
   "cell_type": "code",
   "execution_count": 120,
   "metadata": {},
   "outputs": [
    {
     "name": "stdout",
     "output_type": "stream",
     "text": [
      "4.754535571368078\n"
     ]
    }
   ],
   "source": [
    "print(np.mean(diff))"
   ]
  },
  {
   "cell_type": "code",
   "execution_count": 124,
   "metadata": {},
   "outputs": [
    {
     "name": "stdout",
     "output_type": "stream",
     "text": [
      "446.79241641672604\n"
     ]
    }
   ],
   "source": [
    "n,m = data.shape\n",
    "\n",
    "length = 0\n",
    "for i in range(1,n):\n",
    "    p = data[i-1]\n",
    "    q = data[i]\n",
    "    length = length + point_to_point_distance(p,q)\n",
    "    \n",
    "print(length)"
   ]
  },
  {
   "cell_type": "code",
   "execution_count": 149,
   "metadata": {},
   "outputs": [
    {
     "name": "stdout",
     "output_type": "stream",
     "text": [
      "[ 455.25401087  950.0572011  1121.84858854 1232.71668116 1361.70348624\n",
      "  446.79241642  440.51041619  429.28042829  404.95107656  394.49784652\n",
      "  371.25137134   75.7973557    88.95085067  119.33903252   54.6426128\n",
      "  102.44238057  108.2400188    37.77840588   97.93916134   94.51650859\n",
      "   77.01112712   52.19835277   51.21078899] [ 4.82297726  7.66666388 13.01207172 13.11647779 17.67871958  4.75453557\n",
      "  4.62927949  4.37517012  3.52738463  3.17140282  2.72010378  1.18408352\n",
      "  1.67427427  3.72779355  1.1773547   1.83174784  3.0034355   1.02730801\n",
      "  3.67945627  3.44477231  2.92548818  2.53568177  1.28173588]\n"
     ]
    }
   ],
   "source": [
    "print(length, linelike)"
   ]
  },
  {
   "cell_type": "code",
   "execution_count": 154,
   "metadata": {},
   "outputs": [
    {
     "data": {
      "image/png": "[encoded data removed]",
      "text/plain": [
       "<Figure size 432x288 with 1 Axes>"
      ]
     },
     "metadata": {
      "needs_background": "light"
     },
     "output_type": "display_data"
    }
   ],
   "source": [
    "n = linelike.size\n",
    "\n",
    "x = np.linspace(0,n,n)\n",
    "\n",
    "plt.plot(x, linelike)\n",
    "\n",
    "plt.show()"
   ]
  },
  {
   "cell_type": "code",
   "execution_count": 156,
   "metadata": {},
   "outputs": [
    {
     "name": "stdout",
     "output_type": "stream",
     "text": [
      "0.42526977682735284\n"
     ]
    }
   ],
   "source": [
    "sum = 0\n",
    "for i in range(0, n):\n",
    "    if linelike[i]<8:\n",
    "        sum = sum + length[i]\n",
    "        \n",
    "print(sum/totallength)"
   ]
  },
  {
   "cell_type": "code",
   "execution_count": 157,
   "metadata": {},
   "outputs": [
    {
     "name": "stdout",
     "output_type": "stream",
     "text": [
      "float64\n"
     ]
    }
   ],
   "source": [
    "print(linelike.dtype)"
   ]
  },
  {
   "cell_type": "code",
   "execution_count": null,
   "metadata": {},
   "outputs": [],
   "source": []
  }
 ],
 "metadata": {
  "kernelspec": {
   "display_name": "Python 3",
   "language": "python",
   "name": "python3"
  },
  "language_info": {
   "codemirror_mode": {
    "name": "ipython",
    "version": 3
   },
   "file_extension": ".py",
   "mimetype": "text/x-python",
   "name": "python",
   "nbconvert_exporter": "python",
   "pygments_lexer": "ipython3",
   "version": "3.7.3"
  }
 },
 "nbformat": 4,
 "nbformat_minor": 2
}
